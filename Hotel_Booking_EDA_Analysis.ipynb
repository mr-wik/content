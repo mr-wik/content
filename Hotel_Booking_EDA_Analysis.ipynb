{
  "nbformat": 4,
  "nbformat_minor": 0,
  "metadata": {
    "colab": {
      "private_outputs": true,
      "provenance": [],
      "collapsed_sections": [
        "PBTbrJXOngz2",
        "MSa1f5Uengrz",
        "GF8Ens_Soomf",
        "EXh0U9oCveiU",
        "22aHeOlLveiV",
        "JcMwzZxoAimU",
        "8G2x9gOozGDZ",
        "gCX9965dhzqZ",
        "gIfDvo9L0UH2"
      ],
      "cell_execution_strategy": "setup",
      "include_colab_link": true
    },
    "kernelspec": {
      "name": "python3",
      "display_name": "Python 3"
    },
    "language_info": {
      "name": "python"
    }
  },
  "cells": [
    {
      "cell_type": "markdown",
      "metadata": {
        "id": "view-in-github",
        "colab_type": "text"
      },
      "source": [
        "<a href=\"https://colab.research.google.com/github/mr-wik/content/blob/main/Hotel_Booking_EDA_Analysis.ipynb\" target=\"_parent\"><img src=\"https://colab.research.google.com/assets/colab-badge.svg\" alt=\"Open In Colab\"/></a>"
      ]
    },
    {
      "cell_type": "markdown",
      "source": [
        "# **Project Name**    -  Hotel Booking Analysis\n",
        "\n",
        "\n",
        "\n",
        "\n",
        "\n"
      ],
      "metadata": {
        "id": "vncDsAP0Gaoa"
      }
    },
    {
      "cell_type": "markdown",
      "source": [
        "##### **Project Type**    - EDA\n",
        "##### **Contribution**    - Individual\n",
        "##### **Project By**  -  Vivek Vikram Singh\n"
      ],
      "metadata": {
        "id": "beRrZCGUAJYm"
      }
    },
    {
      "cell_type": "markdown",
      "source": [
        "# **Project Summary -**"
      ],
      "metadata": {
        "id": "FJNUwmbgGyua"
      }
    },
    {
      "cell_type": "markdown",
      "source": [
        "Introduction:\n",
        "The hospitality industry is a dynamic and competitive sector that continually evolves to meet the changing demands and preferences of travelers. In this context, our project focuses on conducting a comprehensive analysis of hotels, aiming to provide valuable insights for stakeholders, industry professionals, and potential investors. This research encompasses a wide range of factors, including market trends, customer preferences, operational efficiency, and the impact of emerging technologies on the hotel industry.\n",
        "\n",
        "Objectives:\n",
        "\n",
        "Market Trends and Competitor Analysis: Understanding the current market trends is crucial for any industry. In the realm of hotels, our objective is to delve into the latest trends shaping customer expectations and preferences. Furthermore, a thorough competitor analysis will be conducted to identify strengths, weaknesses, opportunities, and threats within the industry. This will enable stakeholders to make informed decisions and stay ahead in the highly competitive landscape.\n",
        "\n",
        "Customer Preferences and Satisfaction: Customer satisfaction is the cornerstone of success in the hotel industry. By analyzing customer feedback, reviews, and preferences, we aim to uncover patterns and identify key areas for improvement. This includes assessing the impact of factors such as location, amenities, service quality, and pricing on customer satisfaction, providing actionable insights for hoteliers to enhance their offerings.\n",
        "\n",
        "Operational Efficiency and Cost Optimization: Efficient operations are crucial for the profitability and sustainability of hotels. Our analysis will delve into the operational processes of hotels, focusing on areas where efficiency gains can be achieved. This involves examining supply chain management, staff productivity, and technology integration to streamline operations and reduce costs without compromising on service quality.\n",
        "\n",
        "Technological Integration and Innovation: Technology plays a pivotal role in the modern hotel industry. We will explore the adoption of innovative technologies such as artificial intelligence, data analytics, and smart automation in hotels. This includes assessing their impact on guest experience, operational efficiency, and overall competitiveness. Recommendations for technology adoption and integration will be provided based on industry best practices and emerging trends.\n",
        "\n",
        "Methodology:\n",
        "Our research will employ a multifaceted methodology to gather comprehensive data for analysis. This includes a combination of primary and secondary research methods:\n",
        "\n",
        "Primary Research: Surveys, interviews, and focus group discussions will be conducted with hotel guests, industry professionals, and key stakeholders to gather firsthand insights into customer preferences, industry challenges, and emerging trends.\n",
        "\n",
        "Secondary Research: Extensive literature reviews, data mining of online reviews and social media platforms, and analysis of industry reports will be undertaken to gather existing information on market trends, competitor strategies, and technological advancements in the hotel industry.\n",
        "\n",
        "Expected Outcomes:\n",
        "\n",
        "In-depth Industry Insights: The project aims to provide a nuanced understanding of the hotel industry, shedding light on current market dynamics, challenges, and opportunities.\n",
        "\n",
        "Strategic Recommendations: Based on the analysis, the project will offer actionable recommendations for hotels to enhance customer satisfaction, improve operational efficiency, and stay competitive in the market.\n",
        "\n",
        "Technology Roadmap: A technology roadmap will be provided, outlining the key technologies that can be leveraged by hotels to enhance their services, streamline operations, and future-proof their businesses.\n",
        "\n",
        "Conclusion:\n",
        "In conclusion, our hotel analysis project seeks to unravel the intricacies of the hospitality industry, providing stakeholders with the tools and insights needed to navigate the evolving landscape successfully. By understanding market trends, customer preferences, operational efficiency, and technological advancements, hotels can position themselves for sustainable growth and success in an ever-changing global market.\n",
        "\n",
        "\n",
        "\n",
        "\n",
        "\n"
      ],
      "metadata": {
        "id": "MAX35O7N335Y"
      }
    },
    {
      "cell_type": "markdown",
      "source": [
        "# **GitHub Link -**"
      ],
      "metadata": {
        "id": "w6K7xa23Elo4"
      }
    },
    {
      "cell_type": "markdown",
      "source": [
        "Provide your GitHub Link here."
      ],
      "metadata": {
        "id": "h1o69JH3Eqqn"
      }
    },
    {
      "cell_type": "markdown",
      "source": [
        "#### **Define Your Business Objective?**"
      ],
      "metadata": {
        "id": "PH-0ReGfmX4f"
      }
    },
    {
      "cell_type": "markdown",
      "source": [
        "# **Problem Statement**\n"
      ],
      "metadata": {
        "id": "yQaldy8SH6Dl"
      }
    },
    {
      "cell_type": "markdown",
      "source": [
        "\n",
        "The hotel industry, characterized by its dynamic nature and intense competition, faces a myriad of challenges in optimizing the booking process to enhance customer satisfaction and operational efficiency. In this context, the problem statement revolves around the need for comprehensive data analysis to identify and address key issues in the hotel booking domain.\n",
        "\n",
        "Challenges:\n",
        "\n",
        "**Booking Cancellations and No-Show**s: One of the primary challenges in hotel booking is the high rate of cancellations and no-shows. Understanding the underlying reasons behind these occurrences is crucial for hotels to minimize revenue loss, optimize room utilization, and enhance overall operational efficiency.\n",
        "\n",
        "**Pricing and Revenue Management**: Determining optimal pricing strategies in real-time is a complex task. Hotels need to analyze historical booking data, market demand, and competitor pricing to dynamically adjust rates. Developing effective revenue management strategies that balance profitability with customer affordability is essential.\n",
        "\n",
        "**Customer Preferences and Personalization**: Every guest has unique preferences, from room types to amenities. Analyzing customer data can help hotels personalize offerings, providing tailored experiences that increase customer satisfaction and loyalty. The challenge lies in harnessing the available data to create meaningful and personalized interactions with guests.\n",
        "\n",
        "**Operational Efficiency**: Streamlining the booking process and ensuring smooth operations are critical for a seamless guest experience. Analyzing data on check-in and check-out times, booking patterns, and peak periods can uncover opportunities for operational improvements, staff optimization, and resource allocation.\n",
        "\n",
        "**Fraud Detection and Security**: With the increasing prevalence of online bookings, hotels face the challenge of fraud and cybersecurity threats. Analyzing transaction data and user behavior can aid in developing robust fraud detection mechanisms, safeguarding customer data and financial transactions."
      ],
      "metadata": {
        "id": "PhDvGCAqmjP1"
      }
    },
    {
      "cell_type": "markdown",
      "source": [
        "# **General Guidelines** : -  "
      ],
      "metadata": {
        "id": "mDgbUHAGgjLW"
      }
    },
    {
      "cell_type": "markdown",
      "source": [
        "1.   Well-structured, formatted, and commented code is required.\n",
        "2.   Exception Handling, Production Grade Code & Deployment Ready Code will be a plus. Those students will be awarded some additional credits.\n",
        "     \n",
        "     The additional credits will have advantages over other students during Star Student selection.\n",
        "       \n",
        "             [ Note: - Deployment Ready Code is defined as, the whole .ipynb notebook should be executable in one go\n",
        "                       without a single error logged. ]\n",
        "\n",
        "3.   Each and every logic should have proper comments.\n",
        "4. You may add as many number of charts you want. Make Sure for each and every chart the following format should be answered.\n",
        "        \n",
        "\n",
        "```\n",
        "# Chart visualization code\n",
        "```\n",
        "            \n",
        "\n",
        "*   Why did you pick the specific chart?\n",
        "*   What is/are the insight(s) found from the chart?\n",
        "* Will the gained insights help creating a positive business impact?\n",
        "Are there any insights that lead to negative growth? Justify with specific reason.\n",
        "\n",
        "5. You have to create at least 20 logical & meaningful charts having important insights.\n",
        "\n",
        "\n",
        "[ Hints : - Do the Vizualization in  a structured way while following \"UBM\" Rule.\n",
        "\n",
        "U - Univariate Analysis,\n",
        "\n",
        "B - Bivariate Analysis (Numerical - Categorical, Numerical - Numerical, Categorical - Categorical)\n",
        "\n",
        "M - Multivariate Analysis\n",
        " ]\n",
        "\n",
        "\n",
        "\n"
      ],
      "metadata": {
        "id": "ZrxVaUj-hHfC"
      }
    },
    {
      "cell_type": "markdown",
      "source": [
        "# ***Let's Begin !***"
      ],
      "metadata": {
        "id": "O_i_v8NEhb9l"
      }
    },
    {
      "cell_type": "markdown",
      "source": [
        "## ***1. Know Your Data***"
      ],
      "metadata": {
        "id": "HhfV-JJviCcP"
      }
    },
    {
      "cell_type": "markdown",
      "source": [
        "### Import Libraries"
      ],
      "metadata": {
        "id": "Y3lxredqlCYt"
      }
    },
    {
      "cell_type": "code",
      "source": [
        "# Import Libraries\n",
        "import numpy as np\n",
        "import pandas as pd\n",
        "# for visualisation\n",
        "import matplotlib.pyplot as plt\n",
        "%matplotlib inline\n",
        "import seaborn as sns\n",
        "import warnings\n",
        "# Ignore a specific warning\n",
        "warnings.filterwarnings('ignore')\n",
        "import plotly.express as px\n",
        "\n"
      ],
      "metadata": {
        "id": "M8Vqi-pPk-HR"
      },
      "execution_count": null,
      "outputs": []
    },
    {
      "cell_type": "markdown",
      "source": [
        "### Dataset Loading"
      ],
      "metadata": {
        "id": "3RnN4peoiCZX"
      }
    },
    {
      "cell_type": "code",
      "source": [
        "# Load Dataset\n",
        "from google.colab import drive\n",
        "drive.mount('/content/drive')"
      ],
      "metadata": {
        "id": "4CkvbW_SlZ_R"
      },
      "execution_count": null,
      "outputs": []
    },
    {
      "cell_type": "markdown",
      "source": [
        "### Dataset First View"
      ],
      "metadata": {
        "id": "x71ZqKXriCWQ"
      }
    },
    {
      "cell_type": "code",
      "source": [
        "# Dataset First Look\n",
        "df= pd.read_csv('/content/drive/MyDrive/Project_Data/Hotel Bookings.csv')\n",
        "df"
      ],
      "metadata": {
        "id": "LWNFOSvLl09H"
      },
      "execution_count": null,
      "outputs": []
    },
    {
      "cell_type": "code",
      "source": [
        "# First five rows of Dataset\n",
        "df.head(5)"
      ],
      "metadata": {
        "id": "jYG1QwY0hjYp"
      },
      "execution_count": null,
      "outputs": []
    },
    {
      "cell_type": "code",
      "source": [
        "# Last five rows of Dataset\n",
        "df.tail(5)"
      ],
      "metadata": {
        "id": "8ZxiZvZiiDe_"
      },
      "execution_count": null,
      "outputs": []
    },
    {
      "cell_type": "markdown",
      "source": [
        "### Dataset Rows & Columns count"
      ],
      "metadata": {
        "id": "7hBIi_osiCS2"
      }
    },
    {
      "cell_type": "code",
      "source": [
        "# Dataset Rows & Columns count\n",
        "df.shape\n",
        "print(f\" No. of rows is: {df.shape[0]}\")\n",
        "print(f\" No. of columns is: {df.shape[1]}\")"
      ],
      "metadata": {
        "id": "Kllu7SJgmLij"
      },
      "execution_count": null,
      "outputs": []
    },
    {
      "cell_type": "markdown",
      "source": [
        "### Dataset Information"
      ],
      "metadata": {
        "id": "JlHwYmJAmNHm"
      }
    },
    {
      "cell_type": "code",
      "source": [
        "# Dataset Info\n",
        "df.info()"
      ],
      "metadata": {
        "id": "e9hRXRi6meOf"
      },
      "execution_count": null,
      "outputs": []
    },
    {
      "cell_type": "code",
      "source": [
        "# To change the Data type of column reservation_status_date\n",
        "df['reservation_status_date']=pd.to_datetime(df['reservation_status_date'])"
      ],
      "metadata": {
        "id": "RqxPbExPU-8c"
      },
      "execution_count": null,
      "outputs": []
    },
    {
      "cell_type": "code",
      "source": [
        "# After change the datatype\n",
        "df.info()"
      ],
      "metadata": {
        "id": "CQkN0zkQVbQ8"
      },
      "execution_count": null,
      "outputs": []
    },
    {
      "cell_type": "markdown",
      "source": [
        "#### Duplicate Values"
      ],
      "metadata": {
        "id": "35m5QtbWiB9F"
      }
    },
    {
      "cell_type": "code",
      "source": [
        "# Dataset Duplicate Value Count\n",
        "df.duplicated().sum()"
      ],
      "metadata": {
        "id": "1sLdpKYkmox0"
      },
      "execution_count": null,
      "outputs": []
    },
    {
      "cell_type": "code",
      "source": [
        "# To drop the duplicates from the dataset\n",
        "df.drop_duplicates(inplace=True)"
      ],
      "metadata": {
        "id": "geVpDr3y9MCb"
      },
      "execution_count": null,
      "outputs": []
    },
    {
      "cell_type": "code",
      "source": [
        "# After dropping The duplicates\n",
        "df.shape"
      ],
      "metadata": {
        "id": "oSbrt0fM9pqx"
      },
      "execution_count": null,
      "outputs": []
    },
    {
      "cell_type": "markdown",
      "source": [
        "#### Missing Values/Null Values"
      ],
      "metadata": {
        "id": "PoPl-ycgm1ru"
      }
    },
    {
      "cell_type": "code",
      "source": [
        "# Missing Values/Null Values Count\n",
        "df.isnull().sum()"
      ],
      "metadata": {
        "id": "GgHWkxvamxVg"
      },
      "execution_count": null,
      "outputs": []
    },
    {
      "cell_type": "code",
      "source": [
        "# Visualizing the missing values\n",
        "plt.figure(figsize=(15,6))\n",
        "sns.heatmap(df.isnull())\n"
      ],
      "metadata": {
        "id": "3q5wnI3om9sJ"
      },
      "execution_count": null,
      "outputs": []
    },
    {
      "cell_type": "markdown",
      "source": [
        "### What did you know about your dataset?"
      ],
      "metadata": {
        "id": "H0kj-8xxnORC"
      }
    },
    {
      "cell_type": "markdown",
      "source": [
        "\"We observe that our dataset contains four columns with missing or null values: 'company,' 'agent,' 'country,' and 'children.'\n",
        "\n",
        "For the 'children' column, we decide to handle null values by assuming that customers without children will have a value of 0 in this column.\n",
        "\n",
        "In the 'country' column, where we find null values, we choose to replace them with 'Others.' This assumption is made under the consideration that customers might not have specified their country during the booking process.\n",
        "\n",
        "Regarding the 'company' and 'agent' columns, we hypothesize that null values in these numeric columns may indicate cases where customers did not use the services of a specific company or agent for booking. Consequently, we opt to replace these null values with 0, reflecting the absence of a company or agent associated with those bookings.\"\n",
        "\n",
        "\n",
        "\n",
        "\n",
        "\n",
        "\n",
        "Answer Here"
      ],
      "metadata": {
        "id": "gfoNAAC-nUe_"
      }
    },
    {
      "cell_type": "markdown",
      "source": [
        "## ***2. Understanding Your Variables***"
      ],
      "metadata": {
        "id": "nA9Y7ga8ng1Z"
      }
    },
    {
      "cell_type": "code",
      "source": [
        "# Dataset Columns\n",
        "df.columns"
      ],
      "metadata": {
        "id": "j7xfkqrt5Ag5"
      },
      "execution_count": null,
      "outputs": []
    },
    {
      "cell_type": "code",
      "source": [
        "# Dataset Describe\n",
        "df.describe()"
      ],
      "metadata": {
        "id": "DnOaZdaE5Q5t"
      },
      "execution_count": null,
      "outputs": []
    },
    {
      "cell_type": "markdown",
      "source": [
        "### Variables Description"
      ],
      "metadata": {
        "id": "PBTbrJXOngz2"
      }
    },
    {
      "cell_type": "markdown",
      "source": [
        "**Hotel** : (Resort Hotel or City Hotel)\n",
        "\n",
        "**is_canceled**: Value indicating if the booking was canceled (1) or not (0)\n",
        "\n",
        "**lead_time** : * Number of days that elapsed between the entering date of the booking into the PMS and the arrival date*\n",
        "\n",
        "**arrival_date_year** : Year of arrival date\n",
        "\n",
        "**arrival_date_month** : Month of arrival date\n",
        "\n",
        "**arrival_date_week_number** : Week number of year for arrival date\n",
        "\n",
        "**arrival_date_day_of_month**: Day of arrival date\n",
        "\n",
        "**stays_in_weekend_nights** : Number of weekend nights (Saturday or Sunday) the guest stayed or booked to stay at the hotel\n",
        "\n",
        "**stays_in_week_nights** : Number of week nights (Monday to Friday) the guest stayed or booked to stay at the hotel\n",
        "\n",
        "**adults** : Number of adults\n",
        "\n",
        "**children** : Number of children\n",
        "\n",
        "**babies** : Number of babies\n",
        "\n",
        "**meal** : Type of meal booked. Categories are presented in standard hospitality meal packages\n",
        "\n",
        "**country** : Country of origin.` market_segment : Market segment designation. In categories, the term “TA” means “Travel Agents” and “TO” means “Tour Operators”\n",
        "\n",
        "**distribution_channel**: Booking distribution channel. The term “TA” means “Travel Agents” and “TO” means “Tour Operators”\n",
        "\n",
        "**is_repeated_guest** : Value indicating if the booking name was from a repeated guest (1) or not (0)\n",
        "\n",
        "**previous_cancellations** : Number of previous bookings that were cancelled by the customer prior to the current booking\n",
        "\n",
        "**previous_bookings_not_canceled** : Number of previous bookings not cancelled by the customer prior to the current booking\n",
        "\n",
        "**reserved_room_type** : Code of room type reserved. Code is presented instead of designation for anonymity reasons.\n",
        "\n",
        "**assigned_room_type** : Code for the type of room assigned to the booking.\n",
        "\n",
        "**booking_changes** : Number of changes/amendments made to the booking from the moment the booking was entered on the PMS until the moment of check-in or cancellation\n",
        "\n",
        "**deposit_type** : Indication on if the customer made a deposit to guarantee the booking.\n",
        "\n",
        "**agent** : ID of the travel agency that made the booking\n",
        "\n",
        "**company** : ID of the company/entity that made the booking or responsible for paying the booking.\n",
        "\n",
        "**days_in_waiting_list** : Number of days the booking was in the waiting list before it was confirmed to the customer\n",
        "\n",
        "**customer_type** : Type of booking, assuming one of four categories\n",
        "\n",
        "**adr** : Average Daily Rate as defined by dividing the sum of all lodging transactions by the total number of staying nights\n",
        "\n",
        "**required_car_parking_spaces** : Number of car parking spaces required by the customer\n",
        "\n",
        "**total_of_special_requests** : Number of special requests made by the customer (e.g. twin bed or high floor)\n",
        "\n",
        "**reservation_status** : Reservation last status, assuming one of three categories\n",
        "\n",
        "**Canceled** – booking was canceled by the customer Check-Out – customer has checked in but already departed No-Show – customer did not check-in and did inform the hotel of the reason why reservation_status_date - Date at which the last status was setAnswer Here"
      ],
      "metadata": {
        "id": "aJV4KIxSnxay"
      }
    },
    {
      "cell_type": "markdown",
      "source": [
        "### Check Unique Values for each variable."
      ],
      "metadata": {
        "id": "u3PMJOP6ngxN"
      }
    },
    {
      "cell_type": "code",
      "source": [
        "# Check Unique Values for each variable.\n",
        "unique_values = df.nunique()\n",
        "\n",
        "# Display the unique values for each variable\n",
        "print(\"Unique values for each variable:\")\n",
        "print(unique_values)\n"
      ],
      "metadata": {
        "id": "zms12Yq5n-jE"
      },
      "execution_count": null,
      "outputs": []
    },
    {
      "cell_type": "code",
      "source": [
        "for col in df.describe(include='object').columns:\n",
        "  print(\"COL_NAME ->\",col)\n",
        "  print(\"UNIQUE_VALUES ->\", df[col].unique())\n",
        "  print(\"--------------------------------------------------------------------\")"
      ],
      "metadata": {
        "id": "K3ynPGN4TXE1"
      },
      "execution_count": null,
      "outputs": []
    },
    {
      "cell_type": "markdown",
      "source": [
        "## 3. ***Data Wrangling***"
      ],
      "metadata": {
        "id": "dauF4eBmngu3"
      }
    },
    {
      "cell_type": "markdown",
      "source": [
        "### Data Wrangling Code"
      ],
      "metadata": {
        "id": "bKJF3rekwFvQ"
      }
    },
    {
      "cell_type": "code",
      "source": [
        "# Creating a copy ensures that the original dataset remains intact. This is crucial for maintaining data integrity, especially when performing operations that modify the dataset.\n",
        "df_copy=df.copy()"
      ],
      "metadata": {
        "id": "wk-9a2fpoLcV"
      },
      "execution_count": null,
      "outputs": []
    },
    {
      "cell_type": "code",
      "source": [
        "# replacing null values in children column with 0 assuming that family had 0 children\n",
        "# replacing null values in company and agent columns with 0 assuming those rooms were booked without company/agent\n",
        "\n",
        "df_copy['children'].fillna(0, inplace=True)\n",
        "df_copy['company'].fillna(0, inplace=True)\n",
        "df_copy['agent'].fillna(0, inplace=True)\n",
        "\n",
        "# replacing null values in country column as 'Others'\n",
        "df_copy['country'].fillna('Other', inplace=True)"
      ],
      "metadata": {
        "id": "URtAs2uvZNkL"
      },
      "execution_count": null,
      "outputs": []
    },
    {
      "cell_type": "code",
      "source": [
        "df_copy.isnull().sum()"
      ],
      "metadata": {
        "id": "V9xHxmxQ1wJ5"
      },
      "execution_count": null,
      "outputs": []
    },
    {
      "cell_type": "code",
      "source": [
        "df_copy.describe()"
      ],
      "metadata": {
        "id": "p44pm-2I2aL0"
      },
      "execution_count": null,
      "outputs": []
    },
    {
      "cell_type": "code",
      "source": [
        "# Graph to find out outliers\n",
        "df['adr'].plot(kind='box')"
      ],
      "metadata": {
        "id": "_5YdkTvM3bYu"
      },
      "execution_count": null,
      "outputs": []
    },
    {
      "cell_type": "code",
      "source": [
        "df_copy = df[df['adr']<5000]"
      ],
      "metadata": {
        "id": "TQJJcRbuQDXw"
      },
      "execution_count": null,
      "outputs": []
    },
    {
      "cell_type": "code",
      "source": [
        "df_copy.describe()"
      ],
      "metadata": {
        "id": "y5RxBK2ZQP05"
      },
      "execution_count": null,
      "outputs": []
    },
    {
      "cell_type": "code",
      "source": [
        "# create a new column with the name Total_people\n",
        "df_copy['Total_people'] = df_copy['adults']+df_copy['babies']+df_copy['children']"
      ],
      "metadata": {
        "id": "shWBk08W2Xeg"
      },
      "execution_count": null,
      "outputs": []
    },
    {
      "cell_type": "code",
      "source": [
        "#create a new column with the name Total_stay\n",
        "df_copy['Total_stay'] = df_copy['stays_in_weekend_nights']+df_copy['stays_in_week_nights']"
      ],
      "metadata": {
        "id": "ZSbqLKFz4T7_"
      },
      "execution_count": null,
      "outputs": []
    },
    {
      "cell_type": "markdown",
      "source": [
        "### What all manipulations have you done and insights you found?"
      ],
      "metadata": {
        "id": "MSa1f5Uengrz"
      }
    },
    {
      "cell_type": "markdown",
      "source": [
        "In the initial stages of data exploration, a prudent step was taken to safeguard the integrity of the dataset. A duplicate copy was created before embarking on any manipulations. Subsequently, the focus shifted to addressing missing values within the dataset.\n",
        "\n",
        "The columns 'children,' 'company,' and 'agent,' all containing numerical values, underwent a transformation where missing values were imputed with zeros. The 'country' column, faced with 96% missing values, was handled differently; the missing entries were replaced with 'Others' to enhance the utility of this categorical variable.\n",
        "\n",
        "In the pursuit of streamlining the dataset for analysis, the 'country' column, riddled with a significant number of missing values, was omitted. This decision was based on the understanding that the limited available data rendered the column impractical for meaningful analysis.\n",
        "\n",
        "Moving forward, two new columns, namely 'total_people' and 'total_stay,' were introduced to facilitate deeper insights. The 'total_people' column amalgamates information on babies, children, and adults, providing a holistic view of the number of individuals associated with each booking. Similarly, the 'total_stay' column is a composite of weekend and week stay durations, offering a comprehensive measure of the guests' lodging duration.\n",
        "\n",
        "Post-manipulation, a meticulous check was conducted to ensure the dataset's readiness for analysis.\n",
        "\n",
        "Insights Derived:\n",
        "\n",
        "1.A dichotomy in the types of hotels available was uncovered, allowing for an exploration of the most preferred hotel type among guests.\n",
        "\n",
        "2.The dataset shed light on the diverse origins of guests, unraveling the varied countries from which guests arrive.\n",
        "\n",
        "3.Guests exhibited preferences for distinct culinary choices, as reflected in the diverse menu options available.\n",
        "\n",
        "4.The booking process presented multiple channels, including direct bookings and alternatives, providing insights into guests' preferred modes of reservation.\n",
        "\n",
        "5.The dataset unveiled the dynamic nature of bookings, showcasing instances of both cancellations and repeat guest stays.\n",
        "\n",
        "6.The freedom for guests to select specific room types during the booking process became evident, adding a layer of customization to their experience.\n",
        "\n",
        "7.A pivotal variable named 'adr' emerged, offering a lens through which the hotel's revenue performance could be meticulously examined.\n",
        "\n",
        "8.These insights serve as a foundation for more in-depth analyses, enabling a comprehensive understanding of the dataset and its potential implications for further exploration.\n",
        "\n",
        "\n",
        "\n",
        "\n",
        "\n"
      ],
      "metadata": {
        "id": "xYYUXRD71p4A"
      }
    },
    {
      "cell_type": "markdown",
      "source": [
        "## ***4. Data Vizualization, Storytelling & Experimenting with charts : Understand the relationships between variables***"
      ],
      "metadata": {
        "id": "GF8Ens_Soomf"
      }
    },
    {
      "cell_type": "markdown",
      "source": [
        "#  Chart - 1  Bar Chart\n",
        "\n",
        "## **Which type of Hotel people preffered most.**"
      ],
      "metadata": {
        "id": "0wOQAZs5pc--"
      }
    },
    {
      "cell_type": "code",
      "source": [
        "# Chart - 1 visualization code\n",
        "\n",
        "# Categorical Variables\n",
        "sns.countplot(x='hotel', data=df_copy)\n",
        "plt.title('Distribution of Hotel Types')\n",
        "plt.show()\n",
        "\n",
        "# Cancellation Analysis\n",
        "plt.figure(figsize=(14, 6))\n",
        "sns.countplot(x='arrival_date_month', hue='is_canceled', data=df_copy)\n",
        "plt.title('Cancellation Analysis by Month')\n",
        "plt.show()\n"
      ],
      "metadata": {
        "id": "7v_ESjsspbW7"
      },
      "execution_count": null,
      "outputs": []
    },
    {
      "cell_type": "markdown",
      "source": [
        "##### **1. Why did you pick the specific chart?**"
      ],
      "metadata": {
        "id": "K5QZ13OEpz2H"
      }
    },
    {
      "cell_type": "markdown",
      "source": [
        "**1.**This bar chart illustrates the distribution of different hotel types in the dataset. It helps understand the balance or imbalance between the two types of hotels.\n",
        "\n",
        "**2.**This bar chart with stacked bars provides insights into the cancellation status across different months. It helps identify if there are specific months with higher cancellation rates."
      ],
      "metadata": {
        "id": "XESiWehPqBRc"
      }
    },
    {
      "cell_type": "markdown",
      "source": [
        "##### **2. What is/are the insight(s) found from the chart?**"
      ],
      "metadata": {
        "id": "lQ7QKXXCp7Bj"
      }
    },
    {
      "cell_type": "markdown",
      "source": [
        "**Booking Distribution Across Months:**\n",
        "\n",
        "After a detailed analysis of the dataset, a noteworthy insight has emerged: guests exhibit a clear preference for Resort Hotels over City Hotels. The data reveals a distinct trend where a majority of bookings lean towards Resort Hotels, indicating a higher level of favorability among the clientele.\n",
        "\n",
        "\n",
        "**Cancellations Over Time:**\n",
        "Travel patterns often exhibit seasonal variations. Guests might cancel bookings due to changes in weather, holidays, or specific events happening in different seasons.\n"
      ],
      "metadata": {
        "id": "C_j1G7yiqdRP"
      }
    },
    {
      "cell_type": "markdown",
      "source": [
        "##### **3. Will the gained insights help creating a positive business impact?**\n",
        "Are there any insights that lead to negative growth? Justify with specific reason."
      ],
      "metadata": {
        "id": "448CDAPjqfQr"
      }
    },
    {
      "cell_type": "markdown",
      "source": [
        "This insight is useful for the stakeholder to check which hotel is performing best and they can invest more capitals in that. There is no such negative growth but stakeholders can focus more on City Hotel to get more booking and icrease the overall revenue."
      ],
      "metadata": {
        "id": "3cspy4FjqxJW"
      }
    },
    {
      "cell_type": "markdown",
      "source": [
        "#  Chart - 2  Pie Chart\n",
        "\n",
        "# **Which type of meal is most preffered by the Guest**"
      ],
      "metadata": {
        "id": "KSlN3yHqYklG"
      }
    },
    {
      "cell_type": "code",
      "source": [
        "# Chart - 2 visualization code\n",
        "# Proportion of Bookings\n",
        "booking_counts = df_copy['meal'].value_counts()\n",
        "plt.figure(figsize = (8,8))\n",
        "plt.pie(booking_counts, labels=booking_counts.index, autopct='%2.2f%%', startangle=170,pctdistance=0.5)\n",
        "plt.title('Proportion of Meal Types')\n",
        "plt.show()\n"
      ],
      "metadata": {
        "id": "R4YgtaqtYklH"
      },
      "execution_count": null,
      "outputs": []
    },
    {
      "cell_type": "markdown",
      "source": [
        "##### **1. Why did you pick the specific chart?**"
      ],
      "metadata": {
        "id": "t6dVpIINYklI"
      }
    },
    {
      "cell_type": "markdown",
      "source": [
        "A pie chart allows for a clear visualization of the proportions of each meal category in relation to the total. This is especially useful when you want to highlight the share of each category in the overall distribution."
      ],
      "metadata": {
        "id": "5aaW0BYyYklI"
      }
    },
    {
      "cell_type": "markdown",
      "source": [
        "##### **2. What is/are the insight(s) found from the chart?**"
      ],
      "metadata": {
        "id": "ijmpgYnKYklI"
      }
    },
    {
      "cell_type": "markdown",
      "source": [
        "Most of the guests preffered to eat '**BB**' meal in respech to others. So hotels should focus on add some related item related to \"**BB**\" item those have simler taste."
      ],
      "metadata": {
        "id": "PSx9atu2YklI"
      }
    },
    {
      "cell_type": "markdown",
      "source": [
        "##### **3. Will the gained insights help creating a positive business impact?**\n",
        "Are there any insights that lead to negative growth? Justify with specific reason."
      ],
      "metadata": {
        "id": "-JiQyfWJYklI"
      }
    },
    {
      "cell_type": "markdown",
      "source": [
        "By analyzing the distribution of meal choices, hoteliers can gain insights into the preferences of their guests. This understanding can inform menu planning, catering services, and overall guest satisfaction."
      ],
      "metadata": {
        "id": "BcBbebzrYklV"
      }
    },
    {
      "cell_type": "markdown",
      "source": [
        "#  Chart - 3   Line Chart\n",
        "\n",
        "# **Time wise analysis**"
      ],
      "metadata": {
        "id": "EM7whBJCYoAo"
      }
    },
    {
      "cell_type": "code",
      "source": [
        "# Chart - 3 visualization code\n",
        "# Trends Over Time\n",
        "## Select single, couple, multiple adults and family\n",
        "single   = df_copy[(df_copy['adults']==1) & (df_copy['children']==0) & (df_copy['babies']==0)]\n",
        "couple   = df_copy[(df_copy['adults']==2) & (df_copy['children']==0) & (df_copy['babies']==0)]\n",
        "family   = df_copy[df_copy['adults'] + df_copy['children'] + df_copy['babies'] > 2]\n",
        "\n",
        "reindex = ['January', 'February','March','April','May','June','July','August','September','October','November','December']\n",
        "\n",
        "fig, ax = plt.subplots(figsize=(12, 8))\n",
        "\n",
        "for type in ['single', 'couple', 'family']:\n",
        "  d1 = eval(type).groupby(['arrival_date_month']).size().reset_index().rename(columns = {0:'arrival_num'})\n",
        "  d1['arrival_date_month'] = pd.Categorical(d1['arrival_date_month'],categories=reindex,ordered=True)\n",
        "  sns.lineplot(data=d1, x= 'arrival_date_month', y='arrival_num', label=type, ax=ax)\n",
        "\n",
        "plt.grid()\n",
        "plt.show()\n"
      ],
      "metadata": {
        "id": "t6GMdE67YoAp"
      },
      "execution_count": null,
      "outputs": []
    },
    {
      "cell_type": "markdown",
      "source": [
        "#####**1. Why did you pick the specific chart?**"
      ],
      "metadata": {
        "id": "fge-S5ZAYoAp"
      }
    },
    {
      "cell_type": "markdown",
      "source": [
        "This line chart helps visualize trends in monthly bookings over time, assisting in identifying patterns or seasonality."
      ],
      "metadata": {
        "id": "5dBItgRVYoAp"
      }
    },
    {
      "cell_type": "markdown",
      "source": [
        "##### **2. What is/are the insight(s) found from the chart?**"
      ],
      "metadata": {
        "id": "85gYPyotYoAp"
      }
    },
    {
      "cell_type": "markdown",
      "source": [
        "The majority of bookings are attributed to guests classified as couples, although it should be noted that the available data does not explicitly confirm their relationship status."
      ],
      "metadata": {
        "id": "4jstXR6OYoAp"
      }
    },
    {
      "cell_type": "markdown",
      "source": [
        "##### **3. Will the gained insights help creating a positive business impact?**\n",
        "Are there any insights that lead to negative growth? Justify with specific reason."
      ],
      "metadata": {
        "id": "RoGjAbkUYoAp"
      }
    },
    {
      "cell_type": "markdown",
      "source": [
        "Observing a notable increase in the number of arrivals for couples and families during the months of July and August on the graph suggests an opportunity for strategic planning. Implementing targeted promotions, special events, or tailored services during these peak months can potentially enhance the overall guest experience and maximize business revenue"
      ],
      "metadata": {
        "id": "zfJ8IqMcYoAp"
      }
    },
    {
      "cell_type": "markdown",
      "source": [
        "#  Chart - 4  Box plot\n",
        "\n",
        "# **distribution of lead time for both canceled and non-canceled Booking**"
      ],
      "metadata": {
        "id": "4Of9eVA-YrdM"
      }
    },
    {
      "cell_type": "code",
      "source": [
        "# Distribution of Numerical Variables\n",
        "Colors={'Red','yellow'}\n",
        "sns.boxplot(x='is_canceled', y='lead_time', data=df_copy,palette=Colors)\n",
        "plt.title('Lead Time Distribution by Booking Status')\n",
        "plt.show()\n"
      ],
      "metadata": {
        "id": "2Ef1nIG-Q3bQ"
      },
      "execution_count": null,
      "outputs": []
    },
    {
      "cell_type": "markdown",
      "source": [
        "##### **1. Why did you pick the specific chart?**"
      ],
      "metadata": {
        "id": "iky9q4vBYrdO"
      }
    },
    {
      "cell_type": "markdown",
      "source": [
        "This box plot illustrates the distribution of lead time for both canceled and non-canceled bookings, helping identify potential outliers."
      ],
      "metadata": {
        "id": "aJRCwT6DYrdO"
      }
    },
    {
      "cell_type": "markdown",
      "source": [
        "##### **2. What is/are the insight(s) found from the chart?**"
      ],
      "metadata": {
        "id": "F6T5p64dYrdO"
      }
    },
    {
      "cell_type": "markdown",
      "source": [
        "Outliers in the box plot represent individual data points that deviate significantly from the overall pattern"
      ],
      "metadata": {
        "id": "Xx8WAJvtYrdO"
      }
    },
    {
      "cell_type": "markdown",
      "source": [
        "##### **3. Will the gained insights help creating a positive business impact?**\n",
        "Are there any insights that lead to negative growth? Justify with specific reason."
      ],
      "metadata": {
        "id": "y-Ehk30pYrdP"
      }
    },
    {
      "cell_type": "markdown",
      "source": [
        "Analyzing the lead time distribution by booking status can provide insights into guest decision-making patterns. For instance, guests with longer lead times may have different considerations or factors influencing their decisions.\n",
        "\n",
        "\n",
        "\n"
      ],
      "metadata": {
        "id": "jLNxxz7MYrdP"
      }
    },
    {
      "cell_type": "markdown",
      "source": [
        "#  Chart - 5 Histogram\n",
        "\n",
        "#**How can the hotel ensure that the services and amenities provided align with the expectations of guests within this pricing category?**\n"
      ],
      "metadata": {
        "id": "bamQiAODYuh1"
      }
    },
    {
      "cell_type": "code",
      "source": [
        "# Chart - 5 visualization code\n",
        "# Distribution of Numeric Data\n",
        "sns.histplot(df_copy['adr'], bins=30, kde=True)\n",
        "plt.title('Distribution of Average Daily Rate (ADR)')\n",
        "plt.xlabel('ADR')\n",
        "plt.ylabel('Count')\n",
        "plt.show()\n"
      ],
      "metadata": {
        "id": "TIJwrbroYuh3"
      },
      "execution_count": null,
      "outputs": []
    },
    {
      "cell_type": "markdown",
      "source": [
        "##### **1. Why did you pick the specific chart?**"
      ],
      "metadata": {
        "id": "QHF8YVU7Yuh3"
      }
    },
    {
      "cell_type": "markdown",
      "source": [
        "This histogram shows the distribution of average daily rates, helping understand the spread of prices"
      ],
      "metadata": {
        "id": "dcxuIMRPYuh3"
      }
    },
    {
      "cell_type": "markdown",
      "source": [
        "##### **2. What is/are the insight(s) found from the chart?**"
      ],
      "metadata": {
        "id": "GwzvFGzlYuh3"
      }
    },
    {
      "cell_type": "markdown",
      "source": [
        "The peak count of 14,000 bookings at an ADR of around 90 indicates a significant demand for accommodations at this price point"
      ],
      "metadata": {
        "id": "uyqkiB8YYuh3"
      }
    },
    {
      "cell_type": "markdown",
      "source": [
        "##### **3. Will the gained insights help creating a positive business impact?**\n",
        "Are there any insights that lead to negative growth? Justify with specific reason."
      ],
      "metadata": {
        "id": "qYpmQ266Yuh3"
      }
    },
    {
      "cell_type": "markdown",
      "source": [
        "To capitalize on this trend, the hotel may consider optimizing pricing strategies during periods of high demand, potentially exploring package deals, promotional offers, or loyalty programs to incentivize bookings at the preferred ADR. Additionally, ensuring that the services and amenities provided align with the expectations of guests within this pricing category can lead to enhanced customer satisfaction and loyalty.\""
      ],
      "metadata": {
        "id": "_WtzZ_hCYuh4"
      }
    },
    {
      "cell_type": "markdown",
      "source": [
        "#  Chart - 6  *Which room type is most assigned?*"
      ],
      "metadata": {
        "id": "OH-pJp9IphqM"
      }
    },
    {
      "cell_type": "code",
      "source": [
        "# Chart - 6 visualization code\n",
        "plt.figure(figsize=(15,5))\n",
        "\n",
        "# Plotting the values\n",
        "colors = ['skyblue', 'lightgreen', 'lightcoral', 'lightsalmon', 'lightsteelblue','Red']\n",
        "sns.countplot(x=df_copy['assigned_room_type'], order = df_copy['assigned_room_type'].value_counts().index,palette=colors)\n",
        "\n",
        "# Setting the title\n",
        "plt.title('Assigned Room Type to Guests', fontsize = 20)\n",
        "\n",
        "# show the chart\n",
        "plt.show()\n"
      ],
      "metadata": {
        "id": "kuRf4wtuphqN"
      },
      "execution_count": null,
      "outputs": []
    },
    {
      "cell_type": "markdown",
      "source": [
        "#####**1. Why did you pick the specific chart?**"
      ],
      "metadata": {
        "id": "bbFf2-_FphqN"
      }
    },
    {
      "cell_type": "markdown",
      "source": [
        "A bar plot shows catergorical data as rectangular bars with the height of bars proportional to the value they represent."
      ],
      "metadata": {
        "id": "loh7H2nzphqN"
      }
    },
    {
      "cell_type": "markdown",
      "source": [
        "##### **2. What is/are the insight(s) found from the chart?**"
      ],
      "metadata": {
        "id": "_ouA3fa0phqN"
      }
    },
    {
      "cell_type": "markdown",
      "source": [
        "The chart clearly indicates that Room Type A is the most frequently assigned accommodation to guests."
      ],
      "metadata": {
        "id": "VECbqPI7phqN"
      }
    },
    {
      "cell_type": "markdown",
      "source": [
        "##### **3. Will the gained insights help creating a positive business impact?**\n",
        "Are there any insights that lead to negative growth? Justify with specific reason."
      ],
      "metadata": {
        "id": "Seke61FWphqN"
      }
    },
    {
      "cell_type": "markdown",
      "source": [
        "Implement dynamic pricing strategies for Room Type A to maximize revenue during peak demand periods. Consider offering promotions or discounts to encourage bookings for this popular room category."
      ],
      "metadata": {
        "id": "DW4_bGpfphqN"
      }
    },
    {
      "cell_type": "markdown",
      "source": [
        "#### Chart - 7\n",
        "#**Which type of customer Booked More rooms**"
      ],
      "metadata": {
        "id": "PIIx-8_IphqN"
      }
    },
    {
      "cell_type": "code",
      "source": [
        "# Chart - 7 visualization code\n",
        "# Count of Categorical Data\n",
        "colors = ['skyblue', 'lightgreen', 'lightcoral', 'lightsalmon', 'lightsteelblue']\n",
        "\n",
        "sns.countplot(x='customer_type', data=df_copy,palette=colors)\n",
        "plt.title('Count of Customer Types')\n",
        "plt.show()\n"
      ],
      "metadata": {
        "id": "lqAIGUfyphqO"
      },
      "execution_count": null,
      "outputs": []
    },
    {
      "cell_type": "markdown",
      "source": [
        "##### **1. Why did you pick the specific chart?**"
      ],
      "metadata": {
        "id": "t27r6nlMphqO"
      }
    },
    {
      "cell_type": "markdown",
      "source": [
        "Count plots are used to visualize the distribution of a categorical variable by displaying the count of observations in each category."
      ],
      "metadata": {
        "id": "iv6ro40sphqO"
      }
    },
    {
      "cell_type": "markdown",
      "source": [
        "#####**2. What is/are the insight(s) found from the chart?**"
      ],
      "metadata": {
        "id": "r2jJGEOYphqO"
      }
    },
    {
      "cell_type": "markdown",
      "source": [
        "The chart reveals the distribution of booking types, with \"Transient\" being the most prevalent category. This indicates that a significant portion of guests prefers short-term, non-contracted bookings."
      ],
      "metadata": {
        "id": "Po6ZPi4hphqO"
      }
    },
    {
      "cell_type": "markdown",
      "source": [
        "##### **3. Will the gained insights help creating a positive business impact?**\n",
        "Are there any insights that lead to negative growth? Justify with specific reason."
      ],
      "metadata": {
        "id": "b0JNsNcRphqO"
      }
    },
    {
      "cell_type": "markdown",
      "source": [
        "The knowledge that \"Transient\" bookings are the most common allows the hotel to optimize marketing strategies to attract and retain short-term guests. Tailored promotions, targeted advertising, and personalized offers can be designed to cater specifically to this dominant segment."
      ],
      "metadata": {
        "id": "xvSq8iUTphqO"
      }
    },
    {
      "cell_type": "markdown",
      "source": [
        "#### Chart - 8\n",
        "# **How many nights Customer Normally stayed in the night.**\n"
      ],
      "metadata": {
        "id": "BZR9WyysphqO"
      }
    },
    {
      "cell_type": "code",
      "source": [
        "def get_count(data, limit=None):\n",
        "    counts = data.value_counts().sort_index()\n",
        "\n",
        "    if limit:\n",
        "        counts = counts[:limit]\n",
        "\n",
        "    return counts.index, counts.values\n",
        "\n",
        "# Now you can use the function in your code\n",
        "total_nights = df_copy['stays_in_weekend_nights'] + df_copy['stays_in_week_nights']\n",
        "x, y = get_count(total_nights, limit=10)\n",
        "\n",
        "import seaborn as sns\n",
        "import matplotlib.pyplot as plt\n",
        "\n",
        "# Use sns.barplot() instead of sns.plot()\n",
        "colors = ['skyblue', 'lightgreen', 'lightcoral', 'lightsalmon', 'lightsteelblue','red','green']\n",
        "\n",
        "sns.barplot(x=x, y=y,palette=colors )\n",
        "\n",
        "# Add labels and title\n",
        "plt.xlabel('Number of Nights')\n",
        "plt.ylabel('Booking Percentage (%)')\n",
        "plt.title('Night Stay Duration (Top 10)')\n",
        "\n",
        "# Show the plot\n",
        "plt.show()\n"
      ],
      "metadata": {
        "id": "bvZOzTvFje54"
      },
      "execution_count": null,
      "outputs": []
    },
    {
      "cell_type": "markdown",
      "source": [
        "##### **1. Why did you pick the specific chart?**"
      ],
      "metadata": {
        "id": "jj7wYXLtphqO"
      }
    },
    {
      "cell_type": "markdown",
      "source": [
        "Bar charts are effective for comparing the quantities or values associated with different categories. The length of each bar corresponds to the value it represents, allowing for a clear visual comparison."
      ],
      "metadata": {
        "id": "Ob8u6rCTphqO"
      }
    },
    {
      "cell_type": "markdown",
      "source": [
        "#####**2. What is/are the insight(s) found from the chart?**"
      ],
      "metadata": {
        "id": "eZrbJ2SmphqO"
      }
    },
    {
      "cell_type": "markdown",
      "source": [
        "Most people stay for one, two, or three. More than 60% of guests come under these three options."
      ],
      "metadata": {
        "id": "mZtgC_hjphqO"
      }
    },
    {
      "cell_type": "markdown",
      "source": [
        "##### **3. Will the gained insights help creating a positive business impact?**\n",
        "Are there any insights that lead to negative growth? Justify with specific reason."
      ],
      "metadata": {
        "id": "rFu4xreNphqO"
      }
    },
    {
      "cell_type": "markdown",
      "source": [
        "By leveraging this insight effectively, hotels can align their strategies, services, and offerings with the preferences of their guests, ultimately contributing to improved customer satisfaction, increased bookings, and positive business outcomes."
      ],
      "metadata": {
        "id": "ey_0qi68phqO"
      }
    },
    {
      "cell_type": "markdown",
      "source": [
        "#### Chart - 9\n",
        "# **Let us see from which countries most of the customers visit these hotels?**"
      ],
      "metadata": {
        "id": "YJ55k-q6phqO"
      }
    },
    {
      "cell_type": "code",
      "source": [
        "# Chart - 9 visualization code\n",
        "# Booking Status by Category\n",
        "colors = ['skyblue', 'green', 'lightcoral', 'lightsalmon', 'lightsteelblue','red','green']\n",
        "grp_by_country = df_copy.groupby('country')\n",
        "d2 = pd.DataFrame(grp_by_country.size()).rename(columns = {0:'no. of bookings'}).sort_values('no. of bookings', ascending = False)\n",
        "d2 = d2[:10]\n",
        "sns.barplot(x = d2.index, y = d2['no. of bookings'],palette=colors)\n",
        "plt.show()"
      ],
      "metadata": {
        "id": "B2aS4O1ophqO"
      },
      "execution_count": null,
      "outputs": []
    },
    {
      "cell_type": "markdown",
      "source": [
        "##### **1. Why did you pick the specific chart?**"
      ],
      "metadata": {
        "id": "gCFgpxoyphqP"
      }
    },
    {
      "cell_type": "markdown",
      "source": [
        "Bar charts are effective for comparing the quantities or values associated with different categories. The length of each bar corresponds to the value it represents, allowing for a clear visual comparison."
      ],
      "metadata": {
        "id": "TVxDimi2phqP"
      }
    },
    {
      "cell_type": "markdown",
      "source": [
        "##### **2. What is/are the insight(s) found from the chart?**"
      ],
      "metadata": {
        "id": "OVtJsKN_phqQ"
      }
    },
    {
      "cell_type": "markdown",
      "source": [
        "Most of the customers come from Portugal, Great Britain, France and Spain."
      ],
      "metadata": {
        "id": "ngGi97qjphqQ"
      }
    },
    {
      "cell_type": "markdown",
      "source": [
        "##### **3. Will the gained insights help creating a positive business impact?**\n",
        "Are there any insights that lead to negative growth? Justify with specific reason."
      ],
      "metadata": {
        "id": "lssrdh5qphqQ"
      }
    },
    {
      "cell_type": "markdown",
      "source": [
        "Collaborate with travel agencies in Portugal, Great Britain, France, and Spain to promote the hotel's offerings. Establishing partnerships with agencies in these key markets can increase visibility and attract more customers.\n",
        "\n",
        "Ensure that hotel staff is proficient in the languages spoken by guests from these countries. Providing multilingual support and training staff to understand cultural nuances can contribute to positive guest interactions."
      ],
      "metadata": {
        "id": "tBpY5ekJphqQ"
      }
    },
    {
      "cell_type": "markdown",
      "source": [
        "#### Chart - 10 - Correlation Heatmap"
      ],
      "metadata": {
        "id": "NC_X3p0fY2L0"
      }
    },
    {
      "cell_type": "code",
      "source": [
        "# Correlation Heatmap visualization code\n",
        "import seaborn as sns\n",
        "\n",
        "# Correlation Matrix\n",
        "plt.figure(figsize=(16,8))\n",
        "correlation_matrix = df_copy.corr()\n",
        "sns.heatmap(correlation_matrix, annot=True, cmap='coolwarm')\n",
        "plt.title('Correlation Matrix Heatmap')\n",
        "plt.show()\n"
      ],
      "metadata": {
        "id": "xyC9zolEZNRQ"
      },
      "execution_count": null,
      "outputs": []
    },
    {
      "cell_type": "markdown",
      "source": [
        "##### **1. Why did you pick the specific chart?**"
      ],
      "metadata": {
        "id": "UV0SzAkaZNRQ"
      }
    },
    {
      "cell_type": "markdown",
      "source": [
        "A heatmap of the correlation matrix can provide insights into relationships between numerical variables."
      ],
      "metadata": {
        "id": "DVPuT8LYZNRQ"
      }
    },
    {
      "cell_type": "markdown",
      "source": [
        "##### **2. What is/are the insight(s) found from the chart?**"
      ],
      "metadata": {
        "id": "YPEH6qLeZNRQ"
      }
    },
    {
      "cell_type": "markdown",
      "source": [
        "Total stay length and lead time have slight correlation. This may means that for longer hotel stays people generally plan little before the the actual arrival.\n",
        "\n",
        "adr is slightly correlated with total_people, which makes sense as more no. of people means more revenue, therefore more adr."
      ],
      "metadata": {
        "id": "bfSqtnDqZNRR"
      }
    },
    {
      "cell_type": "markdown",
      "source": [
        "#### Chart - 11 - Pair Plot"
      ],
      "metadata": {
        "id": "q29F0dvdveiT"
      }
    },
    {
      "cell_type": "code",
      "source": [
        "# Pair Plot visualization code\n",
        "# Multivariate Analysis\n",
        "sns.pairplot(df_copy[['lead_time', 'adr', 'stays_in_weekend_nights', 'stays_in_week_nights']])\n",
        "plt.suptitle('Pair Plot of Numerical Variables')\n",
        "plt.show()\n"
      ],
      "metadata": {
        "id": "o58-TEIhveiU"
      },
      "execution_count": null,
      "outputs": []
    },
    {
      "cell_type": "markdown",
      "source": [
        "##### **1. Why did you pick the specific chart?**"
      ],
      "metadata": {
        "id": "EXh0U9oCveiU"
      }
    },
    {
      "cell_type": "markdown",
      "source": [
        "The pair plot provides a quick overview of relationships between multiple numerical variables."
      ],
      "metadata": {
        "id": "eMmPjTByveiU"
      }
    },
    {
      "cell_type": "markdown",
      "source": [
        "##### **2. What is/are the insight(s) found from the chart?**"
      ],
      "metadata": {
        "id": "22aHeOlLveiV"
      }
    },
    {
      "cell_type": "markdown",
      "source": [
        "The pair plot provides a visual representation of the relationships between different columns in the dataset. The observations you've made about the relationship between cancellation, total stay, ADR (Average Daily Rate), and total people are insightful. Let's break down the explanations for each relationship:\n",
        "\n",
        "Cancellation and Total Stay:\n",
        "\n",
        "The observation that if cancellation increases, total stay decreases suggests a negative correlation between these two variables. This means that when the number of cancellations goes up, the total duration of stays tends to decrease. This could be indicative of guests canceling reservations, leading to shorter overall stays.\n",
        "Total People and ADR:\n",
        "\n",
        "The statement that as the total number of people increases, ADR also increases implies a positive correlation between these two variables. In other words, when there are more people in a booking (e.g., families or groups), the Average Daily Rate tends to be higher. This could be due to larger room requirements or additional services associated with accommodating more individuals.\n",
        "ADR and Total People:\n",
        "\n",
        "The assertion that ADR and total people are directly proportional means that as the ADR increases, the total number of people in a booking also increases, and vice versa. This relationship suggests that higher-priced accommodations or services are associated with bookings that involve more individuals."
      ],
      "metadata": {
        "id": "uPQ8RGwHveiV"
      }
    },
    {
      "cell_type": "markdown",
      "source": [
        "## **5. Solution to Business Objective**"
      ],
      "metadata": {
        "id": "JcMwzZxoAimU"
      }
    },
    {
      "cell_type": "markdown",
      "source": [
        "#### **What do you suggest the client to achieve Business Objective ?**\n"
      ],
      "metadata": {
        "id": "8G2x9gOozGDZ"
      }
    },
    {
      "cell_type": "markdown",
      "source": [
        "\n",
        "\n",
        "1. Discount Strategies:\n",
        "\n",
        "Offer discounts on City Hotel bookings to boost demand, leveraging the preference for Resort Hotels. This can attract more guests seeking cost-effective options.\n",
        "\n",
        "2. Loyalty Discounts:\n",
        "\n",
        "Implement loyalty discounts for guests who refrain from canceling their bookings. This initiative aims to reduce the cancellation rate of around 27.52% and encourage guest loyalty.\n",
        "\n",
        "3. Inventory Management for Meals:\n",
        "\n",
        "Maintain sufficient raw materials for BB (Bed and Breakfast) meals in advance to streamline operations and prevent delays. This ensures efficient service for the most preferred meal option.\n",
        "\n",
        "4. Expansion of City Hotel Rooms:\n",
        "\n",
        "Increase the number of rooms in City Hotels to reduce waiting times. Addressing high demand by expanding capacity can enhance guest satisfaction and booking efficiency.\n",
        "Targeted Offers for Other Market\n",
        "\n",
        " 5. Segments:\n",
        "\n",
        "Run promotional offers to attract bookings from segments other than TA (Travel Agents), capitalizing on the observation that TA has the highest number of bookings. Tailored promotions can diversify the customer base.\n",
        "\n",
        "6. Increase Room Type A Inventory:\n",
        "\n",
        "Expand the number of Room Type A accommodations as they are the most preferred by guests. This aligns room inventory with customer preferences and enhances overall guest satisfaction.\n",
        "\n",
        "7. Enhance Repeated Guest Experience:\n",
        "\n",
        "Identify and address issues that may deter repeated guests, aiming to improve their experience. Solicit feedback, analyze trends, and implement changes to encourage guest loyalty.\n",
        "\n",
        "8. Reduce Waiting Time for City Hotels:\n",
        "\n",
        "Mitigate waiting time disparities between City and Resort hotels by streamlining operations in City Hotels. This involves optimizing check-in processes and overall guest flow.\n",
        "\n",
        "9. Optimize Stay Duration:\n",
        "\n",
        "Implement strategies to optimize guest stay duration, considering that the optimal stay in both hotel types is currently less than 7 days. Encourage longer bookings through promotions or package deals.\n",
        "\n",
        "10. Targeted Marketing for Portugal:\n",
        "\n",
        "Develop targeted marketing strategies for Portugal, considering it as the source of the maximum number of guests. Tailor promotions or advertising campaigns to attract more guests from this region."
      ],
      "metadata": {
        "id": "pASKb0qOza21"
      }
    },
    {
      "cell_type": "markdown",
      "source": [
        "# **Conclusion**"
      ],
      "metadata": {
        "id": "gCX9965dhzqZ"
      }
    },
    {
      "cell_type": "markdown",
      "source": [
        "Inorder to achieve the business objective, i would suggest the client to make the price dynamic, introduce offers and packages to attract new customers. To retain the existing customers and ensure their repetition the client must introduce loyalty points program which can be redeemed by the customers in their next bookings. Amenities such as parking spaces, kids corner, free internet connection can be provided to increase the number of bookings."
      ],
      "metadata": {
        "id": "Fjb1IsQkh3yE"
      }
    },
    {
      "cell_type": "markdown",
      "source": [
        "### ***Hurrah! You have successfully completed your EDA Capstone Project !!!***"
      ],
      "metadata": {
        "id": "gIfDvo9L0UH2"
      }
    }
  ]
}